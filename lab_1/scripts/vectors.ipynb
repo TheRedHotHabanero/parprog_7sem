{
  "cells": [
    {
      "cell_type": "code",
      "execution_count": 23,
      "metadata": {
        "id": "Yy-YnjrwPbni"
      },
      "outputs": [],
      "source": [
        "ISIZE = 5000\n",
        "JSIZE = 5000"
      ]
    },
    {
      "cell_type": "markdown",
      "metadata": {
        "id": "7fxV00ziPbnk"
      },
      "source": [
        "Для первого цикла $a[i][j] = \\sin(0.1*a[i+4][j+2]);$"
      ]
    },
    {
      "cell_type": "code",
      "execution_count": 24,
      "metadata": {
        "id": "2kt4lcqQPbnk"
      },
      "outputs": [],
      "source": [
        "def f1(i):\n",
        "    return i\n",
        "\n",
        "def f2(j):\n",
        "    return j\n",
        "\n",
        "def g1(i):\n",
        "    return i + 4\n",
        "\n",
        "def g2(j):\n",
        "    return j + 2\n",
        "\n",
        "fist_solution_set = []\n",
        "second_solution_set = []\n",
        "\n",
        "for mu in range(ISIZE - 4):\n",
        "    for lambd in range(2, JSIZE):\n",
        "        if (f1(mu) == g1(lambd)):\n",
        "            fist_solution_set.append((mu, lambd))\n",
        "\n",
        "for mu in range(ISIZE - 2):\n",
        "    for lambd in range(2, JSIZE):\n",
        "        if (f2(mu) == g2(lambd)):\n",
        "            second_solution_set.append((mu, lambd))"
      ]
    },
    {
      "cell_type": "markdown",
      "metadata": {
        "id": "AG2iroQhPbnk"
      },
      "source": [
        "Исследуем получившиеся множества решений"
      ]
    },
    {
      "cell_type": "code",
      "execution_count": 10,
      "metadata": {
        "colab": {
          "base_uri": "https://localhost:8080/"
        },
        "id": "GWBGdDDHPbnk",
        "outputId": "d509fe19-bd82-42a5-adda-6150a26c356c"
      },
      "outputs": [
        {
          "output_type": "execute_result",
          "data": {
            "text/plain": [
              "[(6, 2), (7, 3)]"
            ]
          },
          "metadata": {},
          "execution_count": 10
        }
      ],
      "source": [
        "fist_solution_set[:2]"
      ]
    },
    {
      "cell_type": "code",
      "execution_count": 11,
      "metadata": {
        "colab": {
          "base_uri": "https://localhost:8080/"
        },
        "id": "fd377f2APbnl",
        "outputId": "06a266c8-36ee-44d3-ba81-094e816c02df"
      },
      "outputs": [
        {
          "output_type": "execute_result",
          "data": {
            "text/plain": [
              "[(4, 2), (5, 3)]"
            ]
          },
          "metadata": {},
          "execution_count": 11
        }
      ],
      "source": [
        "second_solution_set[:2]"
      ]
    },
    {
      "cell_type": "markdown",
      "metadata": {
        "id": "WvZcZ3KiPbnm"
      },
      "source": [
        "$D_1 = (>, >)$\n",
        "\n",
        "Пусть многомерный цикл имеет вектор направлений d, в состав\n",
        "которого входят только элементы «>» и «=». Такой цикл может быть\n",
        "распараллелен без всяких ограничений по любому количеству\n",
        "индексов, соответствующих компонентам «=» в векторе направлений.\n",
        "Распараллеливание по индексам, соответствующим компонентам «>»\n",
        "в векторе направлений, возможно при дублировании необходимых\n",
        "входных\n",
        "данных.\n",
        "Перед\n",
        "распараллеливанием\n",
        "циклы,\n",
        "соответствующие различным уровням вложенности первоначальной\n",
        "конструкции, можно безопасно менять местами.\n",
        "\n",
        "Это был пункт 2е, переходим к пункту 1е."
      ]
    },
    {
      "cell_type": "code",
      "execution_count": 20,
      "metadata": {
        "id": "pRouprgAPbnm"
      },
      "outputs": [],
      "source": [
        "def f1(i):\n",
        "    return i\n",
        "\n",
        "def f2(j):\n",
        "    return j\n",
        "\n",
        "def g1(i):\n",
        "    return i - 1\n",
        "\n",
        "def g2(j):\n",
        "    return j - 8\n",
        "\n",
        "fist_solution_set = []\n",
        "second_solution_set = []\n",
        "\n",
        "for mu in range(1, ISIZE):\n",
        "    for lambd in range(8, JSIZE):\n",
        "        if (f1(mu) == g1(lambd)):\n",
        "            fist_solution_set.append((mu, lambd))\n",
        "\n",
        "for mu in range(1, ISIZE):\n",
        "    for lambd in range(8, JSIZE):\n",
        "        if (f2(mu) == g2(lambd)):\n",
        "            second_solution_set.append((mu, lambd))"
      ]
    },
    {
      "cell_type": "code",
      "execution_count": 7,
      "metadata": {
        "colab": {
          "base_uri": "https://localhost:8080/"
        },
        "id": "rVgvxl_bPbnm",
        "outputId": "80d885b7-63dc-4e30-bef9-692392317787"
      },
      "outputs": [
        {
          "output_type": "execute_result",
          "data": {
            "text/plain": [
              "[(7, 8), (8, 9)]"
            ]
          },
          "metadata": {},
          "execution_count": 7
        }
      ],
      "source": [
        "fist_solution_set[:2]"
      ]
    },
    {
      "cell_type": "code",
      "execution_count": 8,
      "metadata": {
        "colab": {
          "base_uri": "https://localhost:8080/"
        },
        "id": "KX4pfFyTPbnn",
        "outputId": "d6845968-4dd5-487d-897e-3b15be357bf5"
      },
      "outputs": [
        {
          "output_type": "execute_result",
          "data": {
            "text/plain": [
              "[(1, 9), (2, 10)]"
            ]
          },
          "metadata": {},
          "execution_count": 8
        }
      ],
      "source": [
        "second_solution_set[:2]"
      ]
    },
    {
      "cell_type": "markdown",
      "metadata": {
        "id": "YQOdmHRcPbnn"
      },
      "source": [
        "$D_2 = (<, <)$\n",
        "\n",
        "Пусть многомерный цикл имеет вектор направлений d, в состав\n",
        "которого входят только элементы „<“ и „=“. Такой цикл может быть\n",
        "распараллелен без всяких ограничений по любому количеству\n",
        "индексов, соответствующих компонентам „=“ в векторе направлений.\n",
        "Распараллеливание по индексам, соответствующим компонентам „<“\n",
        "в векторе направлений, проблематично. Перед распараллеливанием\n",
        "циклы, соответствующие различным уровням вложенности\n",
        "первоначальной конструкции, можно безопасно менять местами.\n",
        "Пусть для некоторого многомерного цикла определен вектор\n",
        "направлений d. Истинная зависимость в цикле существует тогда и\n",
        "только тогда, когда крайний левый элемент вектора направлений,\n",
        "отличный от „=“, есть „<“.\n",
        "\n",
        "Это был пункт 1е. Переходим к 3е."
      ]
    },
    {
      "cell_type": "code",
      "execution_count": null,
      "metadata": {
        "id": "OH5vc9V1Pbnn"
      },
      "outputs": [],
      "source": [
        "'''\n",
        "for (int i = 0; i < ISIZE; ++i){\n",
        "    for (int j = 0; i < JSIZE; ++j) {\n",
        "        a[i][j] = sin(0.002*a[i][j]);\n",
        "        if (j >= 1 and i < ISIZE-4) {\n",
        "            b[i][j] = a[i+4][j-1] * 1.5\n",
        "        }\n",
        "    }\n",
        "}\n",
        "'''"
      ]
    },
    {
      "cell_type": "markdown",
      "metadata": {
        "id": "Dx5-TgPwPbno"
      },
      "source": [
        "То есть при условиях $j >= 1$ and $i < ISIZE-4$ возможно нарушение условий Бернстрайна"
      ]
    },
    {
      "cell_type": "code",
      "execution_count": 22,
      "metadata": {
        "id": "B0WRnPFwPbno"
      },
      "outputs": [],
      "source": [
        "def f1(i):\n",
        "    return i\n",
        "\n",
        "def f2(j):\n",
        "    return j\n",
        "\n",
        "def g1(i):\n",
        "    return i + 4\n",
        "\n",
        "def g2(j):\n",
        "    return j - 1\n",
        "\n",
        "fist_solution_set = []\n",
        "second_solution_set = []\n",
        "\n",
        "for mu in range(ISIZE - 4):\n",
        "    for lambd in range(1, JSIZE):\n",
        "        if (f1(mu) == g1(lambd)):\n",
        "            fist_solution_set.append((mu, lambd))\n",
        "\n",
        "for mu in range(ISIZE - 4):\n",
        "    for lambd in range(1, JSIZE):\n",
        "        if (f2(mu) == g2(lambd)):\n",
        "            second_solution_set.append((mu, lambd))"
      ]
    },
    {
      "cell_type": "code",
      "execution_count": 17,
      "metadata": {
        "colab": {
          "base_uri": "https://localhost:8080/"
        },
        "id": "UAmkY717Pbno",
        "outputId": "3b21b92a-2d02-4716-efac-908ba4c459aa"
      },
      "outputs": [
        {
          "output_type": "execute_result",
          "data": {
            "text/plain": [
              "[(5, 1), (6, 2)]"
            ]
          },
          "metadata": {},
          "execution_count": 17
        }
      ],
      "source": [
        "fist_solution_set[:2]"
      ]
    },
    {
      "cell_type": "code",
      "execution_count": 19,
      "metadata": {
        "colab": {
          "base_uri": "https://localhost:8080/"
        },
        "id": "aSd5_cC6Pbnp",
        "outputId": "7f695d88-223c-4ab6-a1b6-16f4506c6769"
      },
      "outputs": [
        {
          "output_type": "execute_result",
          "data": {
            "text/plain": [
              "[(0, 1), (1, 2)]"
            ]
          },
          "metadata": {},
          "execution_count": 19
        }
      ],
      "source": [
        "second_solution_set[:2]"
      ]
    },
    {
      "cell_type": "markdown",
      "metadata": {
        "id": "QhzG8OwsPbnp"
      },
      "source": [
        "$D_2 = (>, <)$\n",
        "\n",
        "Антизависимость. Значения массива сначала используются, а потом вычисляются. Можно распараллелисть по внутреннему циклу с копированием данных."
      ]
    }
  ],
  "metadata": {
    "kernelspec": {
      "display_name": "Python 3",
      "language": "python",
      "name": "python3"
    },
    "language_info": {
      "codemirror_mode": {
        "name": "ipython",
        "version": 3
      },
      "file_extension": ".py",
      "mimetype": "text/x-python",
      "name": "python",
      "nbconvert_exporter": "python",
      "pygments_lexer": "ipython3",
      "version": "3.8.10"
    },
    "colab": {
      "provenance": []
    }
  },
  "nbformat": 4,
  "nbformat_minor": 0
}